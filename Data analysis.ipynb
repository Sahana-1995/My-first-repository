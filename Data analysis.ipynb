{
    "cells": [
        {
            "metadata": {},
            "cell_type": "code",
            "source": "\n// @hidden_cell\nimport com.ibm.ibmos2spark.CloudObjectStorage\nvar configurationName = \"os_2404295aa66e4d57b1e78c5b4340b540_configs\"\ndef getCredentials(): scala.collection.mutable.HashMap[String, String] = {\n    return scala.collection.mutable.HashMap[String, String] (\n    \"endPoint\"-> \"https://s3.private.eu.cloud-object-storage.appdomain.cloud\",\n    \"apiKey\"->\"XOttYKQ30msnvUk8FPuGKRaINtuHI07ztlgtibpvvtEt\",\n    \"serviceId\"->\"iam-ServiceId-2f0733f3-4939-4312-abd1-c0550594f2fc\",\n    \"iamServiceEndpoint\" -> \"https://iam.cloud.ibm.com/oidc/token\")\n}\n\nvar cos = new CloudObjectStorage(sc, getCredentials(), configurationName, \"bluemix_cos\")\n\nimport org.apache.spark.sql.SparkSession\nval spark = SparkSession.\n    builder().\n    getOrCreate()\nval dfData1 = spark.\n    read.format(\"org.apache.spark.sql.execution.datasources.csv.CSVFileFormat\").\n    option(\"header\", \"true\").\n    option(\"inferSchema\", \"true\").\n    load(cos.url(\"jupyternotebooks-donotdelete-pr-7jqde5utusideb\", \"OD-group-metrics-E3W.csv\"))\ndfData1.show(5)\n",
            "execution_count": 1,
            "outputs": [
                {
                    "output_type": "stream",
                    "text": "+-----------+------------+---------------------+------------------------+------------------------+--------------+--------------------+-----------------------+-----------------------+-------------------------+--------------------+------------------------+--------------------+--------------------+----------------------------------+\n|trade_route|concern_code|highest_OD_group_name|max_FFE_highest_OD_group|min_FFE_highest_OD_group|active_ODGroup|lowest_OD_group_name|max_FFE_lowest_OD_group|min_FFE_lowest_OD_group|CONTRACTUAL_CUSTOMER_NAME|average_ffe_movement|average_monthly_rollover|         average_FFE|      minimum_YYYYMM|average_ffe_movement_in_percentage|\n+-----------+------------+---------------------+------------------------+------------------------+--------------+--------------------+-----------------------+-----------------------+-------------------------+--------------------+------------------------+--------------------+--------------------+----------------------------------+\n|        E3W|    ***00097| All WCA origins t...|                     1.0|                     1.0|             1|All WCA origins t...|                    1.0|                    1.0|     \"[\"\"FH BERTLING A...|             0.02817|                0.013696|             0.01389|              201607|                                50|\n|        E3W|    ***00108| All WCA origins t...|                    52.0|                     0.5|             4|    Unknown OD group|                    3.0|                    0.5|     \"[\"\"LOGWIN POLAND...|\"\"LOGWIN AIR AND ...|    \"\"LOGWIN AIR & OC...|\"\"LOGWIN AIR & OC...|\"\"LOGWIN AIR + OC...|              \"\"LOGWIN AIR & OC...|\n|        E3W|    ***00375| All WCA origins t...|                     3.0|                     0.5|             3|All WCA origins t...|                    2.0|                    0.5|     \"[\"\"GAC SHIPPING ...|\"\"GAC SHIPPING IN...|                 1.62676|            0.783951|             1.07639|                            201601|\n|        E3W|    ***00613| All WCA origins t...|                    38.5|                     0.5|             4|All WCA origins t...|                    2.0|                    0.5|     \"[\"\"KERRY LOGISTI...|\"\"KERRY LOGISTICS...|    \"\"KERRY LOGISTICS...|\"\"KERRY LOGISTICS...|            16.80282|                         18.700426|\n|        E3W|    ***00655| All WCA origins t...|                     1.0|                     1.0|             2|All WCA origins t...|                    0.5|                    0.5|     \"[\"\"PIONEER GULF ...|             0.04225|                0.020544|             0.02083|              201605|                                50|\n+-----------+------------+---------------------+------------------------+------------------------+--------------+--------------------+-----------------------+-----------------------+-------------------------+--------------------+------------------------+--------------------+--------------------+----------------------------------+\nonly showing top 5 rows\n\n",
                    "name": "stdout"
                },
                {
                    "output_type": "display_data",
                    "data": {
                        "text/plain": "configurationName = os_2404295aa66e4d57b1e78c5b4340b540_configs\ncos = com.ibm.ibmos2spark.CloudObjectStorage@271706b6\nspark = org.apache.spark.sql.SparkSession@f6d17825\ndfData1 = [trade_route: string, concern_code: string ... 13 more fields]\n"
                    },
                    "metadata": {}
                },
                {
                    "output_type": "display_data",
                    "data": {
                        "text/plain": "getCredentials: ()scala.collection.mutable.HashMap[String,String]\n"
                    },
                    "metadata": {}
                },
                {
                    "output_type": "execute_result",
                    "execution_count": 1,
                    "data": {
                        "text/plain": "[trade_route: string, concern_code: string ... 13 more fields]"
                    },
                    "metadata": {}
                }
            ]
        },
        {
            "metadata": {},
            "cell_type": "code",
            "source": "",
            "execution_count": null,
            "outputs": []
        }
    ],
    "metadata": {
        "kernelspec": {
            "name": "scala",
            "display_name": "Scala 2.12 with Spark",
            "language": "scala"
        },
        "language_info": {
            "name": "scala",
            "version": "2.12.15",
            "file_extension": ".scala",
            "pygments_lexer": "scala",
            "mimetype": "text/x-scala",
            "codemirror_mode": "text/x-scala"
        }
    },
    "nbformat": 4,
    "nbformat_minor": 1
}